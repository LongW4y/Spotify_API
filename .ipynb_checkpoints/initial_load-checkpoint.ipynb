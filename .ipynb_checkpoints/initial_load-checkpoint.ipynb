{
 "cells": [
  {
   "cell_type": "code",
   "execution_count": 240,
   "metadata": {},
   "outputs": [],
   "source": [
    "import datetime\n",
    "def current_date():\n",
    "    time = str(datetime.datetime.now())\n",
    "    time = (\"_\"+time[11:13]+'_'+time[14:16]+'_'+time[17:19]+'_'+time[20:23]+'-'+time[8:10]+'_'+time[5:7]+'_'+time[0:4])\n",
    "    return time"
   ]
  },
  {
   "cell_type": "code",
   "execution_count": 231,
   "metadata": {},
   "outputs": [],
   "source": [
    "#returns todays, yesterdays and yesterdays in unix - date\n",
    "import datetime\n",
    "def get_time():\n",
    "    today = datetime.datetime.now()\n",
    "    yday = today - datetime.timedelta(days=1)\n",
    "    yday_unix = int(yday.timestamp()) * 1000\n",
    "    return today, yday, yday_unix"
   ]
  },
  {
   "cell_type": "code",
   "execution_count": 232,
   "metadata": {},
   "outputs": [],
   "source": [
    "#headers definition per user\n",
    "def get_headers(TOKEN: str):\n",
    "    headers = {\n",
    "        \"Accept\" : \"application/json\",\n",
    "        \"Content-Type\" : \"application/json\",\n",
    "        \"Authorization\" : \"Bearer {token}\".format(token=TOKEN)\n",
    "    }\n",
    "    return headers"
   ]
  },
  {
   "cell_type": "code",
   "execution_count": 233,
   "metadata": {},
   "outputs": [],
   "source": [
    "import requests\n",
    "\n",
    "def get_request(headers, num_of_songs):\n",
    "    today, yday, yday_unix = get_time()\n",
    "    r = requests.get(\"https://api.spotify.com/v1/me/player/recently-played?limit={num}&after={time}\".format(num=num_of_songs, time=yday_unix), headers = headers)\n",
    "    \n",
    "    return r"
   ]
  },
  {
   "cell_type": "code",
   "execution_count": 234,
   "metadata": {},
   "outputs": [],
   "source": [
    "import pandas as pd\n",
    "\n",
    "def df_get_latest_songs(data):\n",
    "    song_names = []\n",
    "    artist_names = []\n",
    "    played_at_list = []\n",
    "    timestamps = []\n",
    "    message = str(data)\n",
    "    if message[2:7] == \"error\":\n",
    "        raise Exception(LOG_MESS_API_FAIL + str(current_date())[1:])\n",
    "        #\"{'error': {'status': 401, 'message': 'The access token expired'}}\"\n",
    "    else:\n",
    "        for song in data[\"items\"]:\n",
    "            song_names.append(song[\"track\"][\"name\"])\n",
    "            artist_names.append(song[\"track\"][\"album\"][\"artists\"][0][\"name\"])\n",
    "            played_at_list.append(song[\"played_at\"])\n",
    "            timestamps.append(song[\"played_at\"][0:10])\n",
    "    song_dict = {\n",
    "        \"song_name\" : song_names,\n",
    "        \"artist_name\" : artist_names,\n",
    "        \"played_at\" : played_at_list,\n",
    "        \"timestamp\" : timestamps\n",
    "    }\n",
    "    df = pd.DataFrame(song_dict, columns = [\"song_name\",\"artist_name\",\"played_at\",\"timestamp\"])\n",
    "    return df"
   ]
  },
  {
   "cell_type": "code",
   "execution_count": 235,
   "metadata": {},
   "outputs": [],
   "source": [
    "import pandas as pd\n",
    "import datetime\n",
    "\n",
    "def df_validator(df: pd.DataFrame) -> bool:\n",
    "    # Check if df is empty\n",
    "    if df.empty:\n",
    "        print(\"INFO: No data received\")\n",
    "        return False\n",
    "    if pd.Series(df['played_at']).is_unique:\n",
    "        pass\n",
    "    else:\n",
    "        raise Exception(\"Primary Key is not unique\")\n",
    "    # Check for nulls\n",
    "    if df.isnull().values.any():\n",
    "        raise Exception(\"Null value found\")\n",
    "    \n",
    "    # Check for older than 24 hours records and remove them\n",
    "    yday = datetime.datetime.now() - datetime.timedelta(days=1)\n",
    "    yday = yday.replace(hour=0, minute=0, second=0, microsecond=0)\n",
    "    yday_songs = []\n",
    "    \n",
    "    timestamps = df[\"timestamp\"].tolist()\n",
    "    for timestamp in timestamps:\n",
    "        if datetime.datetime.strptime(timestamp, \"%Y-%m-%d\") == yday:\n",
    "            yday_songs.append(timestamp)\n",
    "    #print(df)       \n",
    "    new_df = df\n",
    "    for record in yday_songs:\n",
    "        for i, row in df.iterrows():\n",
    "            if record == row[\"timestamp\"]:\n",
    "                new_df.drop(index=i)\n",
    "    \n",
    "    df = new_df\n",
    "    return True"
   ]
  },
  {
   "cell_type": "code",
   "execution_count": 236,
   "metadata": {},
   "outputs": [],
   "source": [
    "import json\n",
    "\n",
    "def latest_based_on_token(TOKEN: str, num):\n",
    "    headers = get_headers(TOKEN)\n",
    "    request = get_request(headers, num)\n",
    "    data = request.json()\n",
    "    #print(data)\n",
    "    df_latest = df_get_latest_songs(data)\n",
    "    if df_validator(df_latest) == True:\n",
    "        print(\"INFO: Data passed the validity check\")\n",
    "    elif dt_validator(df_latest) == False:\n",
    "        print(LOG_MESS_APPEND_FAIL + str(current_date())[1:])\n",
    "    return df_latest\n",
    "    "
   ]
  },
  {
   "cell_type": "code",
   "execution_count": 237,
   "metadata": {},
   "outputs": [],
   "source": [
    "def check_path_create(PATH: str):\n",
    "    if not path.exists(PATH):\n",
    "        !mkdir $PATH\n",
    "        return False\n",
    "    return True\n",
    "    "
   ]
  },
  {
   "cell_type": "code",
   "execution_count": 238,
   "metadata": {},
   "outputs": [],
   "source": [
    "import pandas as pd\n",
    "def create_unique_df(old_df: pd.DataFrame, new_df: pd.DataFrame):\n",
    "    copy_new_df = new_df[~new_df.played_at.isin(old_df.played_at)]\n",
    "\n",
    "    return copy_new_df"
   ]
  },
  {
   "cell_type": "code",
   "execution_count": 241,
   "metadata": {},
   "outputs": [
    {
     "name": "stdout",
     "output_type": "stream",
     "text": [
      "INFO: Data passed the validity check\n",
      "INFO: Changes made to the main file, at 11_18_17_905-22_08_2021\n"
     ]
    }
   ],
   "source": [
    "import sqlalchemy\n",
    "import pandas as pd\n",
    "from sqlalchemy.orm import sessionmaker\n",
    "import sqlite3\n",
    "from os import path \n",
    "\n",
    "\n",
    "DB_LOC = 'sqlite://last_played_tracks'\n",
    "UID = 'Czaroo'\n",
    "#UID = 'domiy7'\n",
    "TOKEN = 'BQAx7ImBU0Ps0053wKVWl5KLC0UGtbH_gEMudMMocwlcyFuLQ_u3h69KAgqNiDcJkcWafn89mhP27rPkLliVR80Ra6f9_r9b6gkjWsQ7NiJ2ZAh8i-s812JmNF-mGm5bILfO6KBeM1ztpf7iZBOrsPD1mNkWtAlXnWWbZj6U'\n",
    "PATH = \"./previous_records/\"\n",
    "LOG_MESS_APPEND_SUCCESS = \"INFO: Changes made to the main file, at \"\n",
    "LOG_MESS_APPEND_NO_CHANGES = \"INFO: Tried to append but no new data, at \"\n",
    "LOG_MESS_APPEND_FAIL = \"ERROR: Data received is incorrect, at \"\n",
    "LOG_MESS_API_FAIL = \"ERROR: Wrong API key, at \"\n",
    "if __name__ == \"__main__\":\n",
    "    history = True\n",
    "    user = {\n",
    "        \"UID\" : UID,\n",
    "        \"TOKEN\" : TOKEN\n",
    "    }\n",
    "    cs_latest = latest_based_on_token(TOKEN, 50)\n",
    "    history = check_path_create(PATH)\n",
    "    copy_path = PATH + user[\"UID\"] + '/'\n",
    "    log_path = copy_path + \"change_log.txt\"\n",
    "    file = copy_path + user[\"UID\"] + \".csv\"\n",
    "    if history == True:\n",
    "        if path.isfile(file):\n",
    "            main_df = pd.read_csv(file)\n",
    "            unique_df = create_unique_df(main_df, cs_latest)\n",
    "            if not unique_df.empty:\n",
    "                unique_df = unique_df.sort_values([\"played_at\"], ascending=True)\n",
    "                main_df = main_df.append(unique_df, ignore_index=True)\n",
    "                modified_date = current_date()\n",
    "                log_message = LOG_MESS_APPEND_SUCCESS + modified_date[1:]\n",
    "                !echo $log_message  >> $log_path\n",
    "                copied_file = copy_path + user[\"UID\"] + modified_date + \".csv\"\n",
    "                !cp $file $copied_file\n",
    "                main_df.to_csv(file, index=False)\n",
    "                print(log_message)\n",
    "            elif unique_df.empty:\n",
    "                modified_date = current_date()\n",
    "                log_message = LOG_MESS_APPEND_NO_CHANGES + modified_date[1:]\n",
    "                !echo $log_message  >> $log_path\n",
    "                print(log_message)\n",
    "        else:\n",
    "            check_path_create(copy_path)\n",
    "            cs_latest = cs_latest.sort_values([\"played_at\"], ascending=True)\n",
    "            cs_latest = cs_latest.reset_index(drop=True)\n",
    "            cs_latest.to_csv(file, index=False)\n",
    "    \n",
    "    #modified_date = current_date()\n",
    "    #print(modified_date)"
   ]
  }
 ],
 "metadata": {
  "kernelspec": {
   "display_name": "Python 3.7 (XPython)",
   "language": "python",
   "name": "xpython"
  },
  "language_info": {
   "file_extension": ".py",
   "mimetype": "text/x-python",
   "name": "python",
   "version": "3.7.10"
  }
 },
 "nbformat": 4,
 "nbformat_minor": 4
}
